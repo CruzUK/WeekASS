{
 "cells": [
  {
   "cell_type": "code",
   "execution_count": 14,
   "metadata": {},
   "outputs": [
    {
     "name": "stdout",
     "output_type": "stream",
     "text": [
      "Welcome in Dice Generator!\n",
      "Too high!!Go lower\n",
      "Too high!!Go lower\n",
      "Too low!! Go higher!!\n",
      "You didn't put a number! Try again!!\n",
      "You didn't put a number! Try again!!\n",
      "You didn't put a number! Try again!!\n",
      "You didn't put a number! Try again!!\n",
      "Too high!!Go lower\n",
      "Too low!! Go higher!!\n",
      "Too low!! Go higher!!\n",
      "Too low!! Go higher!!\n",
      "You did it mate!! Congrats!! It took you 12 tries\n"
     ]
    }
   ],
   "source": [
    "import random\n",
    "\n",
    "print(\"Welcome in Dice Generator!\")\n",
    "\n",
    "def diceGen():\n",
    "    guesses = 1\n",
    "    number = random.randint(1, 20)\n",
    "\n",
    "    while True:\n",
    "\n",
    "        player= input(\"What number I'm thinking about from 1 to 20? Give it a go!\")\n",
    "\n",
    "        if player.isdigit():\n",
    "            player = int(player)\n",
    "\n",
    "            if player == number:\n",
    "                print(f\"You did it mate!! Congrats!! It took you {guesses} tries\")\n",
    "                break\n",
    "            elif player > number:\n",
    "                print(\"Too high!!Go lower\")\n",
    "                guesses = guesses + 1\n",
    "            elif player < number:\n",
    "                print(\"Too low!! Go higher!!\")\n",
    "                guesses = guesses + 1\n",
    "\n",
    "        else:\n",
    "            print(\"You didn't put a number! Try again!!\")\n",
    "            guesses = guesses + 1\n",
    "\n",
    "\n",
    "diceGen()\n"
   ]
  }
 ],
 "metadata": {
  "kernelspec": {
   "display_name": "Python 3",
   "language": "python",
   "name": "python3"
  },
  "language_info": {
   "codemirror_mode": {
    "name": "ipython",
    "version": 3
   },
   "file_extension": ".py",
   "mimetype": "text/x-python",
   "name": "python",
   "nbconvert_exporter": "python",
   "pygments_lexer": "ipython3",
   "version": "3.11.1"
  },
  "orig_nbformat": 4,
  "vscode": {
   "interpreter": {
    "hash": "6b1f0ee7f03cc37173128c30aee4f80f74e70c4ce73170b026d69128c241c733"
   }
  }
 },
 "nbformat": 4,
 "nbformat_minor": 2
}
