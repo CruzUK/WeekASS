{
 "cells": [
  {
   "cell_type": "code",
   "execution_count": 2,
   "metadata": {},
   "outputs": [
    {
     "name": "stdout",
     "output_type": "stream",
     "text": [
      "Welcome in Dice Generator!\n",
      "You didn't put a number! Try again!!\n",
      "You didn't put a number! Try again!!\n",
      "You didn't put a number! Try again!!\n",
      "You didn't put a number! Try again!!\n",
      "You didn't put a number! Try again!!\n",
      "You didn't put a number! Try again!!\n",
      "You didn't put a number! Try again!!\n",
      "Too high!!Go lower\n",
      "Too high!!Go lower\n",
      "Too low!! Go higher!!\n",
      "Too low!! Go higher!!\n",
      "Too low!! Go higher!!\n",
      "Too low!! Go higher!!\n",
      "Too low!! Go higher!!\n",
      "Too low!! Go higher!!\n",
      "Too low!! Go higher!!\n",
      "Too low!! Go higher!!\n",
      "Too low!! Go higher!!\n",
      "You did it mate!! Congrats!! It took you 19 tries\n"
     ]
    }
   ],
   "source": [
    "import random #I have imported random function that I can use it in my function\n",
    "\n",
    "print(\"Welcome in Dice Generator!\") # I've created polite welcome for my player\n",
    "\n",
    "def diceGen(): #Here I'm  using the def , the keyword for defining a function\n",
    "    guesses = 1 # I've created a counter to know how many times U have been guessing to get it right :)\n",
    "    number = random.randint(1, 20) #player  will be picking from 1 to 20 I dont want him to get bored too fast that's the rason is 1 to 20\n",
    "\n",
    "    while True: #here I have  start building while loop\n",
    "\n",
    "        player= input(\"What number I'm thinking about from 1 to 20? Give it a go!\") # this is a prompt box which allow to pick a number for a player\n",
    "\n",
    "        if player.isdigit():#This is outside if/else statement. Ive used build in method isdigit to confrim that player choice is a NUMBER . \n",
    "            player = int(player) # I have set player  answer to an integer\n",
    "\n",
    "            if player == number:# start of if/elif statements , nested statements.\n",
    "                print(f\"You did it mate!! Congrats!! It took you {guesses} tries\") #there is a right answer and use the f-string to show many time player guessed\n",
    "                break\n",
    "            elif player > number:#if number is too high player received the message and counter goes up by 1 each time , but I do NOT print the guess number on purpose:)\n",
    "                print(\"Too high!!Go lower\")\n",
    "                guesses = guesses + 1\n",
    "            elif player < number: # if number is too low player receieved the messag and counter goes up by 1 each time, but I do NOT print the guess number on purpose\n",
    "                print(\"Too low!! Go higher!!\")\n",
    "                guesses = guesses + 1\n",
    "\n",
    "        else:# this is the OUTSIDE if/else statement that in case of any other character/letter than number will print out and allow player guess again\n",
    "            print(\"You didn't put a number! Try again!!\")\n",
    "            guesses = guesses + 1\n",
    "\n",
    "\n",
    "diceGen()\n"
   ]
  }
 ],
 "metadata": {
  "kernelspec": {
   "display_name": "Python 3",
   "language": "python",
   "name": "python3"
  },
  "language_info": {
   "codemirror_mode": {
    "name": "ipython",
    "version": 3
   },
   "file_extension": ".py",
   "mimetype": "text/x-python",
   "name": "python",
   "nbconvert_exporter": "python",
   "pygments_lexer": "ipython3",
   "version": "3.11.1"
  },
  "orig_nbformat": 4,
  "vscode": {
   "interpreter": {
    "hash": "6b1f0ee7f03cc37173128c30aee4f80f74e70c4ce73170b026d69128c241c733"
   }
  }
 },
 "nbformat": 4,
 "nbformat_minor": 2
}
