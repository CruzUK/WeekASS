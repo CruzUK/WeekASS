{
 "cells": [
  {
   "cell_type": "code",
   "execution_count": 2,
   "metadata": {},
   "outputs": [
    {
     "name": "stdout",
     "output_type": "stream",
     "text": [
      "Welcome to Dice Generator\n",
      "your score is 3\n",
      "your score is 3\n",
      "your score is 2\n",
      "Time to go home thanks !\n"
     ]
    }
   ],
   "source": [
    "import random\n",
    "\n",
    "print(\"Welcome to Dice Generator\")\n",
    "\n",
    "decision = input(\"You fancy a game? Y for yes , N for NO \\n\")\n",
    "\n",
    "\n",
    "while decision == \"Y\":\n",
    "    user = random.randint(1,6)\n",
    "    print(f\"your score is {user}\")\n",
    "    decision = input(\"You want to play again ? Press Y if no then N\\n\")\n",
    "print(\"Time to go home thanks !\")\n"
   ]
  }
 ],
 "metadata": {
  "kernelspec": {
   "display_name": "Python 3",
   "language": "python",
   "name": "python3"
  },
  "language_info": {
   "codemirror_mode": {
    "name": "ipython",
    "version": 3
   },
   "file_extension": ".py",
   "mimetype": "text/x-python",
   "name": "python",
   "nbconvert_exporter": "python",
   "pygments_lexer": "ipython3",
   "version": "3.11.1 (tags/v3.11.1:a7a450f, Dec  6 2022, 19:58:39) [MSC v.1934 64 bit (AMD64)]"
  },
  "orig_nbformat": 4,
  "vscode": {
   "interpreter": {
    "hash": "6b1f0ee7f03cc37173128c30aee4f80f74e70c4ce73170b026d69128c241c733"
   }
  }
 },
 "nbformat": 4,
 "nbformat_minor": 2
}
