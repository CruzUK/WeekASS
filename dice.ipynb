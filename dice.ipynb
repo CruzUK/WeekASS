{
 "cells": [
  {
   "cell_type": "code",
   "execution_count": 27,
   "metadata": {},
   "outputs": [
    {
     "name": "stdout",
     "output_type": "stream",
     "text": [
      "Welcome to Dice Generator\n",
      "your score is 5\n",
      "your score is 1\n",
      "your score is 2\n",
      "your score is 4\n",
      "Time to go home thanks , you played 4 times!\n"
     ]
    }
   ],
   "source": [
    "import random  # First we  import random function to be able to use random.randint() further in my  code.\n",
    "\n",
    "print(\"Welcome to Dice Generator\")  # I've created welcome message to the user , it's not a neccessary just as an start text.\n",
    "tries=0 # Added the counter to show user how many times he played\n",
    "decision = input(\"You want to play a game? Put Y for yes , N for no \\n\") # I've created a var decision which hold the prompt box for user if he wants to play.\n",
    "\n",
    "while decision == \"Y\": #After reading the assignment I decide to use while loop for DiceGen.\n",
    "    user = random.randint(1,6) # I've created a variable user to hold my random function and I've set it for integers 1 to 6\n",
    "    print(f\"your score is {user}\") # Here I've used f-string function that allow me put value of var user into a string.\n",
    "    decision = input(\"You want to play again ? Press Y if no then N\\n\") #Here I've changed the value of decision var and ask if user want to play again\n",
    "    tries=tries+1 # each time is adding 1 in background how many times you playing\n",
    "print(f\"Time to go home thanks , you played {tries} times!\") #The last line is statement which print if user is not interested to play again and add how many times you played\n"
   ]
  }
 ],
 "metadata": {
  "kernelspec": {
   "display_name": "Python 3",
   "language": "python",
   "name": "python3"
  },
  "language_info": {
   "codemirror_mode": {
    "name": "ipython",
    "version": 3
   },
   "file_extension": ".py",
   "mimetype": "text/x-python",
   "name": "python",
   "nbconvert_exporter": "python",
   "pygments_lexer": "ipython3",
   "version": "3.11.1 (tags/v3.11.1:a7a450f, Dec  6 2022, 19:58:39) [MSC v.1934 64 bit (AMD64)]"
  },
  "orig_nbformat": 4,
  "vscode": {
   "interpreter": {
    "hash": "6b1f0ee7f03cc37173128c30aee4f80f74e70c4ce73170b026d69128c241c733"
   }
  }
 },
 "nbformat": 4,
 "nbformat_minor": 2
}
