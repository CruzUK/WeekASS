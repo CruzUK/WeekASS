{
 "cells": [
  {
   "cell_type": "code",
   "execution_count": 1,
   "metadata": {},
   "outputs": [
    {
     "name": "stdout",
     "output_type": "stream",
     "text": [
      " Hello my name is Maciej. I'm 21 years old. I'm from Poland. My favourite food is Sadza. When I finish the bootcamp on 31st of March I will  getting a new job\n"
     ]
    }
   ],
   "source": [
    "name=input(\"What's your name please?\\n\") #I've used the \\n because I'm using pyCharm :) hope that's okay !\n",
    "age=input(\"How old are you ?\\n\") \n",
    "country=input(\"Where are you from originally\\n\")\n",
    "food=input(\"What's your favourite food?\\n\")\n",
    "progress=input(\"What are your expectation after you finish the bootcamp?\\n\")\n",
    "\n",
    "# I have created the var name age country food progress to hold the answers of the user \n",
    "#I have created the madL var to look it 'clean' that I dont need to type whole f-string to print it\n",
    "madL=(f\" Hello my name is {name}. I'm {age} years old. I'm from {country}. My favourite food is {food}. When I finish the bootcamp on 31st of March I will  {progress}\")\n",
    "# I have created the var madL to hold string and I have used the f-string function to combine my variables with a string txt\n",
    "print(madL) "
   ]
  }
 ],
 "metadata": {
  "kernelspec": {
   "display_name": "Python 3",
   "language": "python",
   "name": "python3"
  },
  "language_info": {
   "codemirror_mode": {
    "name": "ipython",
    "version": 3
   },
   "file_extension": ".py",
   "mimetype": "text/x-python",
   "name": "python",
   "nbconvert_exporter": "python",
   "pygments_lexer": "ipython3",
   "version": "3.11.1 (tags/v3.11.1:a7a450f, Dec  6 2022, 19:58:39) [MSC v.1934 64 bit (AMD64)]"
  },
  "orig_nbformat": 4,
  "vscode": {
   "interpreter": {
    "hash": "6b1f0ee7f03cc37173128c30aee4f80f74e70c4ce73170b026d69128c241c733"
   }
  }
 },
 "nbformat": 4,
 "nbformat_minor": 2
}
