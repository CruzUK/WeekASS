{
 "cells": [
  {
   "cell_type": "code",
   "execution_count": null,
   "metadata": {},
   "outputs": [],
   "source": [
    "name=input(\"What's your name please?\\n\")\n",
    "age=input(\"How old are you ?\\n\")\n",
    "country=input(\"Where are you from originally\\n\")\n",
    "food=input(\"What's your favourite food?\\n\")\n",
    "\n",
    "\n",
    "print(f\"Hello my name is {name}. I'm {age} years old. I'm from {country}. My favourite food is {food}\")"
   ]
  }
 ],
 "metadata": {
  "language_info": {
   "name": "python"
  },
  "orig_nbformat": 4
 },
 "nbformat": 4,
 "nbformat_minor": 2
}
