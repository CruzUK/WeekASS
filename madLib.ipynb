{
 "cells": [
  {
   "cell_type": "code",
   "execution_count": 3,
   "metadata": {},
   "outputs": [
    {
     "name": "stdout",
     "output_type": "stream",
     "text": [
      " Hello my name is Maciej. I'm 28 years old. I'm from Poland. My favourite food is Sadza. When I finish the bootcamp on 31st of March I will  getting a new job\n"
     ]
    }
   ],
   "source": [
    "name=input(\"What's your name please?\\n\")\n",
    "age=input(\"How old are you ?\\n\")\n",
    "country=input(\"Where are you from originally\\n\")\n",
    "food=input(\"What's your favourite food?\\n\")\n",
    "progress=input(\"What are your expectation after you finish the bootcamp?\\n\")\n",
    "\n",
    "\n",
    "\n",
    "madL=(f\" Hello my name is {name}. I'm {age} years old. I'm from {country}. My favourite food is {food}. When I finish the bootcamp on 31st of March I will  {progress}\")\n",
    "\n",
    "print(madL)"
   ]
  }
 ],
 "metadata": {
  "kernelspec": {
   "display_name": "Python 3",
   "language": "python",
   "name": "python3"
  },
  "language_info": {
   "codemirror_mode": {
    "name": "ipython",
    "version": 3
   },
   "file_extension": ".py",
   "mimetype": "text/x-python",
   "name": "python",
   "nbconvert_exporter": "python",
   "pygments_lexer": "ipython3",
   "version": "3.11.1"
  },
  "orig_nbformat": 4,
  "vscode": {
   "interpreter": {
    "hash": "6b1f0ee7f03cc37173128c30aee4f80f74e70c4ce73170b026d69128c241c733"
   }
  }
 },
 "nbformat": 4,
 "nbformat_minor": 2
}
