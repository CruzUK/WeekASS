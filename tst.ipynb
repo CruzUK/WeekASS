{
 "cells": [
  {
   "cell_type": "code",
   "execution_count": 22,
   "metadata": {},
   "outputs": [
    {
     "name": "stdout",
     "output_type": "stream",
     "text": [
      "(                        time   latitude   mag\n",
      "0   2023-01-15T02:03:06.664Z  31.689500  2.60\n",
      "1   2023-01-15T01:49:34.739Z  65.003500  0.90\n",
      "2   2023-01-15T01:38:19.024Z  65.506600  1.60\n",
      "3   2023-01-15T01:28:39.660Z  19.246666  3.07\n",
      "4   2023-01-15T01:14:04.358Z  61.935600  1.60\n",
      "..                       ...        ...   ...\n",
      "95  2023-01-14T09:54:32.782Z  63.578000  1.70\n",
      "96  2023-01-14T09:51:32.470Z  19.168167  2.02\n",
      "97  2023-01-14T09:16:48.143Z  61.027200  1.40\n",
      "98  2023-01-14T09:14:10.170Z  17.953000  2.01\n",
      "99  2023-01-14T09:11:09.035Z  36.652300  0.10\n",
      "\n",
      "[100 rows x 3 columns],)\n"
     ]
    }
   ],
   "source": [
    "import numpy as np\n",
    "import pandas as pd\n",
    "import matplotlib as ptl\n",
    "\n",
    "df = pd.read_csv('all_month.csv',usecols=['time', 'latitude',  'mag',], low_memory=True, nrows=100),\n",
    "\n",
    "print(df)\n",
    "\n",
    "\n",
    "\n"
   ]
  }
 ],
 "metadata": {
  "kernelspec": {
   "display_name": "Python 3",
   "language": "python",
   "name": "python3"
  },
  "language_info": {
   "codemirror_mode": {
    "name": "ipython",
    "version": 3
   },
   "file_extension": ".py",
   "mimetype": "text/x-python",
   "name": "python",
   "nbconvert_exporter": "python",
   "pygments_lexer": "ipython3",
   "version": "3.11.1"
  },
  "orig_nbformat": 4,
  "vscode": {
   "interpreter": {
    "hash": "5238573367df39f7286bb46f9ff5f08f63a01a80960060ce41e3c79b190280fa"
   }
  }
 },
 "nbformat": 4,
 "nbformat_minor": 2
}
